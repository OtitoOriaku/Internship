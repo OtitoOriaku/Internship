{
 "cells": [
  {
   "cell_type": "code",
   "execution_count": null,
   "id": "7b5b41f3",
   "metadata": {},
   "outputs": [],
   "source": []
  },
  {
   "cell_type": "markdown",
   "id": "09f69215",
   "metadata": {},
   "source": [
    "# Regular Expressions"
   ]
  },
  {
   "cell_type": "markdown",
   "id": "d87c387d",
   "metadata": {},
   "source": [
    "Question 1- Write a Python program to check that a string contains only a certain set of characters (in this case a-z, A-Z and 0-9)."
   ]
  },
  {
   "cell_type": "code",
   "execution_count": 90,
   "id": "5713b412",
   "metadata": {},
   "outputs": [
    {
     "name": "stdout",
     "output_type": "stream",
     "text": [
      "['A', 'l', 'i', 'c', 'e', 't', 'a', 'k', 'e', 's', 'h', 'e', 'r', 'M', 'e', 'd', 'i', 'c', 'a', 't', 'i', 'o', 'n', '3', 't', 'i', 'm', 'e', 's', 'a', 'D', 'a', 'y', 'a', 'f', 't', 'e', 'r', 'e', 'v', 'e', 'r', 'y', '4', 'h', 'o', 'u', 'r', 's']\n"
     ]
    }
   ],
   "source": [
    "import re\n",
    "\n",
    "string = \"Alice takes her Medication 3 times a Day after every 4 hours\"\n",
    "\n",
    "x = re.findall(\"[a-zA-Z0-9]\", string)\n",
    "\n",
    "print(x)\n"
   ]
  },
  {
   "cell_type": "markdown",
   "id": "e27eff27",
   "metadata": {},
   "source": [
    "Question 2- Create a function in python that matches a string that has an a followed by zero or more b's"
   ]
  },
  {
   "cell_type": "code",
   "execution_count": null,
   "id": "bbd9c569",
   "metadata": {},
   "outputs": [],
   "source": []
  },
  {
   "cell_type": "markdown",
   "id": "bfde1f84",
   "metadata": {},
   "source": [
    " Question 3- Create a function in python that matches a string that has an a followed by one or more b's"
   ]
  },
  {
   "cell_type": "code",
   "execution_count": null,
   "id": "804bd63c",
   "metadata": {},
   "outputs": [],
   "source": []
  },
  {
   "cell_type": "markdown",
   "id": "700614c5",
   "metadata": {},
   "source": [
    "Question 4- Create a function in Python and use RegEx that matches a string that has an a followed by zero or one 'b'."
   ]
  },
  {
   "cell_type": "code",
   "execution_count": null,
   "id": "e9b4f3fe",
   "metadata": {},
   "outputs": [],
   "source": []
  },
  {
   "cell_type": "markdown",
   "id": "c0fb0ca8",
   "metadata": {},
   "source": [
    "Question 5- Write a Python program that matches a string that has an a followed by three 'b'.\n"
   ]
  },
  {
   "cell_type": "code",
   "execution_count": null,
   "id": "25ed54c6",
   "metadata": {},
   "outputs": [],
   "source": []
  },
  {
   "cell_type": "markdown",
   "id": "1c3037a6",
   "metadata": {},
   "source": [
    "Question 6- Write a regular expression in Python to split a string into uppercase letters.\n",
    "Sample text: “ImportanceOfRegularExpressionsInPython”\n",
    "Output: [‘Importance’, ‘Of’, ‘Regular’, ‘Expression’, ‘In’, ‘Python’]\n"
   ]
  },
  {
   "cell_type": "code",
   "execution_count": 67,
   "id": "e140cb0a",
   "metadata": {},
   "outputs": [
    {
     "name": "stdout",
     "output_type": "stream",
     "text": [
      "Importance Of Regular Expressions In Python\n"
     ]
    }
   ],
   "source": [
    "\n",
    "import re\n",
    "\n",
    "text = \"ImportanceOfRegularExpressionsInPython\"\n",
    "\n",
    "x = re.sub(r\"(?!^)([A-Z])\", r\" \\1\", text)\n",
    "\n",
    "print(x)\n"
   ]
  },
  {
   "cell_type": "markdown",
   "id": "823befd9",
   "metadata": {},
   "source": [
    "Question 7- Write a Python program that matches a string that has an a followed by two to three 'b'.\n",
    "\n"
   ]
  },
  {
   "cell_type": "code",
   "execution_count": null,
   "id": "815a55f1",
   "metadata": {},
   "outputs": [],
   "source": []
  },
  {
   "cell_type": "markdown",
   "id": "d8c6023e",
   "metadata": {},
   "source": [
    "Question 8- Write a Python program to find sequences of lowercase letters joined with a underscore"
   ]
  },
  {
   "cell_type": "code",
   "execution_count": 18,
   "id": "4049c51c",
   "metadata": {},
   "outputs": [
    {
     "name": "stdout",
     "output_type": "stream",
     "text": [
      "This_function_replaces_spaces_by_assigned_char\n"
     ]
    }
   ],
   "source": [
    "sub_ = \"This function replaces spaces by assigned character\"\n",
    "\n",
    "x = re.sub(\"\\s\", \"_\", sub_) # here space is replaced with _\n",
    "\n",
    "print(x)"
   ]
  },
  {
   "cell_type": "markdown",
   "id": "5eb39043",
   "metadata": {},
   "source": [
    "Question 9- Write a Python program that matches a string that has an 'a' followed by anything, ending in 'b'."
   ]
  },
  {
   "cell_type": "code",
   "execution_count": null,
   "id": "e52cb6f2",
   "metadata": {},
   "outputs": [],
   "source": []
  },
  {
   "cell_type": "markdown",
   "id": "a1505f97",
   "metadata": {},
   "source": [
    "Question 10- Write a Python program that matches a word at the beginning of a string.\n",
    "\n"
   ]
  },
  {
   "cell_type": "code",
   "execution_count": 82,
   "id": "088d8951",
   "metadata": {},
   "outputs": [
    {
     "name": "stdout",
     "output_type": "stream",
     "text": [
      "['Data']\n"
     ]
    }
   ],
   "source": [
    "import re\n",
    "\n",
    "txt = \"Data science is an interesting feild of computer science\"\n",
    "\n",
    "pattern = r\"\\A(\\w+)\"  # Matches the first word of the string\n",
    "\n",
    "x = re.findall(pattern, txt)\n",
    "\n",
    "print(x)\n"
   ]
  },
  {
   "cell_type": "markdown",
   "id": "db89d29e",
   "metadata": {},
   "source": [
    "Question 11- Write a Python program to match a string that contains only upper and lowercase letters, numbers, and underscores."
   ]
  },
  {
   "cell_type": "code",
   "execution_count": null,
   "id": "26d2e62c",
   "metadata": {},
   "outputs": [],
   "source": []
  },
  {
   "cell_type": "markdown",
   "id": "5690bfed",
   "metadata": {},
   "source": [
    "Question 12- Write a Python program where a string will start with a specific number. "
   ]
  },
  {
   "cell_type": "code",
   "execution_count": null,
   "id": "eaef710b",
   "metadata": {},
   "outputs": [],
   "source": []
  },
  {
   "cell_type": "markdown",
   "id": "f39d6b9e",
   "metadata": {},
   "source": [
    "Question 13- Write a Python program to remove leading zeros from an IP address"
   ]
  },
  {
   "cell_type": "code",
   "execution_count": 78,
   "id": "c9d7ea50",
   "metadata": {},
   "outputs": [
    {
     "name": "stdout",
     "output_type": "stream",
     "text": [
      "192.168.1.1\n"
     ]
    }
   ],
   "source": [
    "import re\n",
    "\n",
    "Address = \"192.168.001.001\"\n",
    "\n",
    "ip_address = re.sub(r'\\b0+(\\d)', r'\\1', Address)\n",
    "\n",
    "print(ip_address)\n"
   ]
  },
  {
   "cell_type": "code",
   "execution_count": null,
   "id": "63332389",
   "metadata": {},
   "outputs": [],
   "source": []
  },
  {
   "cell_type": "markdown",
   "id": "fdf8f7fd",
   "metadata": {},
   "source": [
    "Question 14- Write a regular expression in python to match a date string in the form of Month name followed by day number and year stored in a text file.\n",
    "\n",
    "Sample text : ' On August 15th 1947 that India was declared independent from British colonialism, and the reins of control were handed over to the leaders of the Country’.\n",
    "\n",
    "Output- August 15th 1947\n",
    "\n",
    "Hint- Use re.match() method here\n"
   ]
  },
  {
   "cell_type": "code",
   "execution_count": 73,
   "id": "4ab9c05c",
   "metadata": {},
   "outputs": [
    {
     "name": "stdout",
     "output_type": "stream",
     "text": [
      "None\n"
     ]
    }
   ],
   "source": [
    "    \n",
    "Sample_text = \"On August 15th 1947 that India was declared independent from British colonialism and the reins of control were handed over to the leaders of the Country\"\n",
    "\n",
    "# match at the end\n",
    "\n",
    "result = re.match(r\"\\d\", Sample_text)\n",
    "\n",
    "print(result)\n",
    "    "
   ]
  },
  {
   "cell_type": "markdown",
   "id": "e7e26001",
   "metadata": {},
   "source": [
    "Question 15- Write a Python program to search some literals strings in a string. Go to the editor\n",
    "\n",
    "Sample text : 'The quick brown fox jumps over the lazy dog.'\n",
    "\n",
    "Searched words : 'fox', 'dog', 'horse'\n"
   ]
  },
  {
   "cell_type": "code",
   "execution_count": 60,
   "id": "b53b8e72",
   "metadata": {},
   "outputs": [
    {
     "name": "stdout",
     "output_type": "stream",
     "text": [
      "'fox' found in the text.\n",
      "'dog' found in the text.\n",
      "'horse' not found in the text.\n"
     ]
    }
   ],
   "source": [
    "import re\n",
    "\n",
    "text = 'The quick brown fox jumps over the lazy dog.'\n",
    "searched_words = ['fox', 'dog', 'horse']\n",
    "\n",
    "# Iterate over the searched words\n",
    "for word in searched_words:\n",
    "    if re.search(word, text):\n",
    "        print(f\"'{word}'\")\n",
    "   # else:\n",
    "    #    print(f\"'{word}' not found in the text.\")\n"
   ]
  },
  {
   "cell_type": "markdown",
   "id": "bff73813",
   "metadata": {},
   "source": [
    "Question 16- Write a Python program to search a literals string in a string and also find the location within the original string where the pattern occurs\n",
    "\n",
    "Sample text : 'The quick brown fox jumps over the lazy dog.'\n",
    "\n",
    "Searched words : 'fox'\n"
   ]
  },
  {
   "cell_type": "code",
   "execution_count": 107,
   "id": "65d203b7",
   "metadata": {},
   "outputs": [
    {
     "name": "stdout",
     "output_type": "stream",
     "text": [
      "fox\n"
     ]
    }
   ],
   "source": [
    "import re\n",
    "\n",
    "text = 'The quick brown fox jumps over the lazy dog.'\n",
    "searched_words = ['fox']\n",
    "\n",
    "# Iterate over the searched words\n",
    "for word in searched_words:\n",
    "    pattern = rf\"\\b{word}\\b\"  # Include word boundary anchors to match whole words\n",
    "    matches = re.finditer(pattern, text)\n",
    "    # Iterate over the matches for the current word\n",
    "    for match in matches:\n",
    "        match_text = match.group()\n",
    "        print(match_text)\n"
   ]
  },
  {
   "cell_type": "code",
   "execution_count": null,
   "id": "440f1226",
   "metadata": {},
   "outputs": [],
   "source": []
  },
  {
   "cell_type": "markdown",
   "id": "6e575f79",
   "metadata": {},
   "source": [
    "Question 17- Write a Python program to find the substrings within a string.\n",
    "\n",
    "Sample text : 'Python exercises, PHP exercises, C# exercises'\n",
    "    \n",
    "Pattern : 'exercises'.\n"
   ]
  },
  {
   "cell_type": "code",
   "execution_count": 105,
   "id": "ea05cd5b",
   "metadata": {},
   "outputs": [
    {
     "name": "stdout",
     "output_type": "stream",
     "text": [
      "exercises\n",
      "exercises\n",
      "exercises\n"
     ]
    }
   ],
   "source": [
    "import re\n",
    "\n",
    "text = 'Python exercises, PHP exercises, C# exercises'\n",
    "pattern = r'exercises'\n",
    "\n",
    "matches = re.findall(pattern, text)\n",
    "for match in matches:\n",
    "    print(match)\n"
   ]
  },
  {
   "cell_type": "markdown",
   "id": "ad84070b",
   "metadata": {},
   "source": [
    "Question 18- Write a Python program to find the occurrence and position of the substrings within a string."
   ]
  },
  {
   "cell_type": "code",
   "execution_count": 91,
   "id": "b4dc876f",
   "metadata": {},
   "outputs": [
    {
     "name": "stdout",
     "output_type": "stream",
     "text": [
      "'fun' found at position 35-37.\n",
      "'and' found at position 39-41.\n"
     ]
    }
   ],
   "source": [
    "import re\n",
    "\n",
    "text = 'I love programming. Programming is fun and rewarding.'\n",
    "\n",
    "pattern = r'\\b\\w{3}\\b' \n",
    "\n",
    "matches = re.finditer(pattern, text)\n",
    "\n",
    "# Iterate over the matches\n",
    "for match in matches:\n",
    "    match_str = match.group()\n",
    "    start_pos = match.start()\n",
    "    end_pos = match.end()\n",
    "    print(f\"'{match_str}' found at position {start_pos}-{end_pos-1}.\")\n"
   ]
  },
  {
   "cell_type": "markdown",
   "id": "a8b8271c",
   "metadata": {},
   "source": [
    "Question 19- Write a Python program to convert a date of yyyy-mm-dd format to dd-mm-yyyy format."
   ]
  },
  {
   "cell_type": "code",
   "execution_count": 23,
   "id": "30fb7ac4",
   "metadata": {},
   "outputs": [
    {
     "name": "stdout",
     "output_type": "stream",
     "text": [
      "Date in YYY-MM-DD Format: 26-03-1992\n"
     ]
    }
   ],
   "source": [
    "\n",
    "import re\n",
    "\n",
    "dt1 = \"1992-03-26\"\n",
    "dt = re.sub(r'(\\d{4})-(\\d{1,2})-(\\d{1,2})', r'\\3-\\2-\\1', dt1)\n",
    "print(\"Date in YYY-MM-DD Format:\", dt)\n"
   ]
  },
  {
   "cell_type": "markdown",
   "id": "d837523c",
   "metadata": {},
   "source": [
    "Question 20- Write a Python program to find all words starting with 'a' or 'e' in a given string."
   ]
  },
  {
   "cell_type": "code",
   "execution_count": 27,
   "id": "86a54c09",
   "metadata": {},
   "outputs": [
    {
     "name": "stdout",
     "output_type": "stream",
     "text": [
      "['am', 'and', 'are', 'enjoying', 'ely', 'evening', 'ark', 'admiring', 'autumn', 'and', 'eating', 'apples']\n"
     ]
    }
   ],
   "source": [
    "import re\n",
    "\n",
    "sentence = \"Adam and Eric are enjoying a lovely evening in the park, admiring the autumn colors and eating apples.\"\n",
    "\n",
    "list = re.findall(\"[ae]\\w+\", sentence)\n",
    "\n",
    "print(list)\n"
   ]
  },
  {
   "cell_type": "markdown",
   "id": "f5ff1234",
   "metadata": {},
   "source": [
    "Question 21- Write a Python program to separate and print the numbers and their position of a given string."
   ]
  },
  {
   "cell_type": "code",
   "execution_count": 28,
   "id": "ceeeb7f7",
   "metadata": {},
   "outputs": [
    {
     "name": "stdout",
     "output_type": "stream",
     "text": [
      "50\n",
      "Index position: 62\n"
     ]
    }
   ],
   "source": [
    "import re\n",
    "# Input.\n",
    "text = \"The following example creates an ArrayList with a capacity of 50 elements. Four elements are then added to the ArrayList and the ArrayList is trimmed accordingly.\"\n",
    "\n",
    "for m in re.finditer(\"\\d+\", text):\n",
    "    print(m.group(0))\n",
    "    print(\"Index position:\", m.start())\n"
   ]
  },
  {
   "cell_type": "code",
   "execution_count": 31,
   "id": "c38faa37",
   "metadata": {},
   "outputs": [
    {
     "name": "stdout",
     "output_type": "stream",
     "text": [
      "80\n",
      "position: 13\n",
      "81\n",
      "position: 46\n"
     ]
    }
   ],
   "source": [
    "import re\n",
    "\n",
    "text = \"The woman is 80 years old and will be turning 81 in few months time\"\n",
    "\n",
    "matches = re.findall(r\"\\d+\", text)\n",
    "for match in matches:\n",
    "    print(match)\n",
    "    print(\"position:\", text.index(match))\n"
   ]
  },
  {
   "cell_type": "markdown",
   "id": "f7fe51b9",
   "metadata": {},
   "source": [
    "Question 22- Write a regular expression in python program to extract maximum numeric value from a string"
   ]
  },
  {
   "cell_type": "code",
   "execution_count": 101,
   "id": "83319ba8",
   "metadata": {},
   "outputs": [
    {
     "name": "stdout",
     "output_type": "stream",
     "text": [
      "120\n"
     ]
    }
   ],
   "source": [
    "import re\n",
    "\n",
    "string = '3 bags of crisps, 45 bags of sweets and 120 sachets of biscuits'\n",
    "\n",
    "pattern = r'\\d+'  # Matches one or more digits\n",
    "\n",
    "# Find all the numbers in the string\n",
    "numbers = re.findall(pattern, string)\n",
    "\n",
    "# Convert numbers to integers\n",
    "numbers = [int(num) for num in numbers]\n",
    "\n",
    "# Find the maximum number\n",
    "max_number = max(numbers)\n",
    "\n",
    "print(max_number)\n"
   ]
  },
  {
   "cell_type": "markdown",
   "id": "4b057441",
   "metadata": {},
   "source": [
    "Question 23- Write a Regex in Python to put spaces between words starting with capital letters"
   ]
  },
  {
   "cell_type": "code",
   "execution_count": 56,
   "id": "53bb8571",
   "metadata": {},
   "outputs": [
    {
     "name": "stdout",
     "output_type": "stream",
     "text": [
      "This Is Assignemntof Reg Ex For You\n"
     ]
    }
   ],
   "source": [
    "import re\n",
    "\n",
    "text = \"ThisIsAssignemntofRegExForYou\"\n",
    "\n",
    "modified = re.sub(r'(?<!^)(?=[A-Z])', ' ', text)\n",
    "\n",
    "print(modified)\n"
   ]
  },
  {
   "cell_type": "markdown",
   "id": "e157abe9",
   "metadata": {},
   "source": [
    "Question 24- Python regex to find sequences of one upper case letter followed by lower case letters"
   ]
  },
  {
   "cell_type": "code",
   "execution_count": 53,
   "id": "ed009c0c",
   "metadata": {},
   "outputs": [
    {
     "name": "stdout",
     "output_type": "stream",
     "text": [
      "['Hello', 'Th', 'Is', 'Is', 'Mi', 'Xe', 'Ca', 'Se', 'Se', 'Nt', 'En', 'Ce']\n"
     ]
    }
   ],
   "source": [
    "import re\n",
    "\n",
    "text = \"Hello, ThIs Is a MiXeD CaSe SeNtEnCe.\"\n",
    "\n",
    "pattern = r'[A-Z][a-z]+'\n",
    "\n",
    "matches = re.findall(pattern, text)\n",
    "\n",
    "print(matches)\n"
   ]
  },
  {
   "cell_type": "markdown",
   "id": "1c0de8b6",
   "metadata": {},
   "source": [
    "Question 25- Write a Python program to remove duplicate words from Sentence using Regular Expression"
   ]
  },
  {
   "cell_type": "code",
   "execution_count": 34,
   "id": "5f8a483f",
   "metadata": {},
   "outputs": [
    {
     "name": "stdout",
     "output_type": "stream",
     "text": [
      "The cat ate the hot fish\n"
     ]
    }
   ],
   "source": [
    "import regex as re\n",
    "\n",
    "textt = \"The cat ate ate the hot hot fish\"\n",
    "\n",
    "regex = r'\\b(\\w+)(?:\\W+\\1\\b)+'  \n",
    "\n",
    "y = re.sub(regex, r'\\1', textt) \n",
    "\n",
    "print(y)"
   ]
  },
  {
   "cell_type": "markdown",
   "id": "2abe5af4",
   "metadata": {},
   "source": [
    "Question 26-  Write a python program using RegEx to accept string ending with alphanumeric character."
   ]
  },
  {
   "cell_type": "code",
   "execution_count": 52,
   "id": "26cdeba6",
   "metadata": {},
   "outputs": [
    {
     "name": "stdout",
     "output_type": "stream",
     "text": [
      "Flirobo12345\n"
     ]
    }
   ],
   "source": [
    "import re\n",
    "\n",
    "pattern = r'^.*[a-zA-Z0-9]$'\n",
    "\n",
    "test_string = \"Flirobo12345\"\n",
    "\n",
    "match = re.match(pattern, test_string)\n",
    "\n",
    "# Print the result\n",
    "print(test_string)\n"
   ]
  },
  {
   "cell_type": "markdown",
   "id": "d8affde7",
   "metadata": {},
   "source": [
    "Question 27-Write a python program using RegEx to extract the hashtags.\n",
    "\n",
    "Sample Text: text = \"\"\"RT @kapil_kausik: #Doltiwal I mean #xyzabc is \"hurt\" by #Demonetization as the same has rendered USELESS <ed><U+00A0><U+00BD><ed><U+00B1><U+0089> \"acquired funds\" No wo\"\"\"\n",
    "\n",
    "Output: ['#Doltiwal', '#xyzabc', '#Demonetization']\n"
   ]
  },
  {
   "cell_type": "code",
   "execution_count": 39,
   "id": "ceecc11f",
   "metadata": {},
   "outputs": [
    {
     "name": "stdout",
     "output_type": "stream",
     "text": [
      "['#Doltiwal', '#xyzabc', '#Demonetization']\n"
     ]
    }
   ],
   "source": [
    "import re\n",
    "\n",
    "text = 'RT @kapil_kausik: #Doltiwal I mean #xyzabc is \"hurt\" by #Demonetization as the same has rendered USELESS <U+00A0><U+00BD><U+00B1><U+0089> \"acquired funds\" No wo'\n",
    "\n",
    "hashtags = re.findall(r'#\\w+', text)\n",
    "\n",
    "print(hashtags)\n"
   ]
  },
  {
   "cell_type": "markdown",
   "id": "cda2bec7",
   "metadata": {},
   "source": [
    "Question 28- Write a python program using RegEx to remove <U+..> like symbols\n",
    "\n",
    "Check the below sample text, there are strange symbols something of the sort <U+..> all over the place. You need to come up with a general Regex expression that will cover all such symbols.\n",
    "\n",
    "Sample Text: \"@Jags123456 Bharat band on 28??<ed><U+00A0><U+00BD><ed><U+00B8><U+0082>Those who  are protesting #demonetization  are all different party leaders\"\n",
    "\n",
    "Output: @Jags123456 Bharat band on 28??<ed><ed>Those who  are protesting #demonetization  are all different party leaders\n"
   ]
  },
  {
   "cell_type": "code",
   "execution_count": 44,
   "id": "06d19401",
   "metadata": {},
   "outputs": [
    {
     "name": "stdout",
     "output_type": "stream",
     "text": [
      "@Jags123456 Bharat band on 28??Those who are protesting #demonetization are all different party leaders\n"
     ]
    }
   ],
   "source": [
    "import re\n",
    "\n",
    "Sample_text = \"@Jags123456 Bharat band on 28??<U+00A0><U+00BD><U+00B8><U+0082>Those who are protesting #demonetization are all different party leaders\"\n",
    "\n",
    "cleaned_text = re.sub(r'<U\\+\\w+>', '', Sample_text)\n",
    "\n",
    "print(cleaned_text)\n"
   ]
  },
  {
   "cell_type": "markdown",
   "id": "b3a50ab7",
   "metadata": {},
   "source": [
    "Question 29- Write a python program to extract dates from the text stored in the text file.\n",
    "\n",
    "Sample Text: Ron was born on 12-09-1992 and he was admitted to school 15-12-1999.\n",
    "    \n",
    "Store this sample text in the file and then extract dates.\n"
   ]
  },
  {
   "cell_type": "code",
   "execution_count": 45,
   "id": "90f5dd73",
   "metadata": {},
   "outputs": [
    {
     "name": "stdout",
     "output_type": "stream",
     "text": [
      "['12-09-1992', '15-12-1999']\n"
     ]
    }
   ],
   "source": [
    "import re\n",
    "\n",
    "Sample_Txt =  \"Ron was born on 12-09-1992 and he was admitted to school 15-12-1999.\"\n",
    "\n",
    "dates = re.findall(r'\\d{2}-\\d{2}-\\d{4}', Sample_Txt)\n",
    "\n",
    "print(dates)"
   ]
  },
  {
   "cell_type": "markdown",
   "id": "3c1f4f03",
   "metadata": {},
   "source": [
    "Question 30- Write a Python program to replace all occurrences of a space, comma, or dot with a colon.\n",
    "\n",
    "Sample Text- 'Python Exercises, PHP exercises.'\n",
    "\n",
    "Output: Python:Exercises::PHP:exercises:\n",
    "\n"
   ]
  },
  {
   "cell_type": "code",
   "execution_count": 47,
   "id": "4af5d45f",
   "metadata": {},
   "outputs": [
    {
     "name": "stdout",
     "output_type": "stream",
     "text": [
      "Python:Exercises::PHP:exercises:\n"
     ]
    }
   ],
   "source": [
    "import re\n",
    "\n",
    "sample_text = 'Python Exercises, PHP exercises.'\n",
    "\n",
    "colon_text = re.sub(r'[ ,.]', ':', text)\n",
    "\n",
    "print(colon_text)"
   ]
  },
  {
   "cell_type": "code",
   "execution_count": null,
   "id": "ad0386ef",
   "metadata": {},
   "outputs": [],
   "source": []
  }
 ],
 "metadata": {
  "kernelspec": {
   "display_name": "Python 3 (ipykernel)",
   "language": "python",
   "name": "python3"
  },
  "language_info": {
   "codemirror_mode": {
    "name": "ipython",
    "version": 3
   },
   "file_extension": ".py",
   "mimetype": "text/x-python",
   "name": "python",
   "nbconvert_exporter": "python",
   "pygments_lexer": "ipython3",
   "version": "3.10.9"
  }
 },
 "nbformat": 4,
 "nbformat_minor": 5
}
